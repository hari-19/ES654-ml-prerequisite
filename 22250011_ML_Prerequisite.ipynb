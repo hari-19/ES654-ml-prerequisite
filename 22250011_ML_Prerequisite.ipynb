{
  "cells": [
    {
      "cell_type": "markdown",
      "source": [
        "## ES654 - Prerequisite Test\n",
        "### Hari Hara Sudhan S\n",
        "### 22250011"
      ],
      "metadata": {
        "id": "Nu0DP7PtBeww"
      }
    },
    {
      "cell_type": "code",
      "execution_count": null,
      "metadata": {
        "colab": {
          "base_uri": "https://localhost:8080/"
        },
        "id": "A3rqXrRAN7a1",
        "outputId": "fdda3a10-4227-48b0-de63-9f61de9f0baf"
      },
      "outputs": [
        {
          "output_type": "stream",
          "name": "stdout",
          "text": [
            "Looking in indexes: https://pypi.org/simple, https://us-python.pkg.dev/colab-wheels/public/simple/\n",
            "Requirement already satisfied: rich in /usr/local/lib/python3.8/dist-packages (13.0.0)\n",
            "Requirement already satisfied: pygments<3.0.0,>=2.6.0 in /usr/local/lib/python3.8/dist-packages (from rich) (2.6.1)\n",
            "Requirement already satisfied: typing-extensions<5.0,>=4.0.0 in /usr/local/lib/python3.8/dist-packages (from rich) (4.4.0)\n",
            "Requirement already satisfied: commonmark<0.10.0,>=0.9.0 in /usr/local/lib/python3.8/dist-packages (from rich) (0.9.1)\n"
          ]
        }
      ],
      "source": [
        "# pip statements\n",
        "!pip install rich"
      ]
    },
    {
      "cell_type": "code",
      "execution_count": 256,
      "metadata": {
        "id": "PNQC8aG_t5uL"
      },
      "outputs": [],
      "source": [
        "# imports\n",
        "from rich.pretty import pprint\n",
        "import time\n",
        "import numpy as np\n",
        "from copy import deepcopy\n",
        "from matplotlib import pyplot as plt\n",
        "import pandas as pd"
      ]
    },
    {
      "cell_type": "markdown",
      "metadata": {
        "id": "hff0P-N9rYP7"
      },
      "source": [
        "**Qn 1**\n",
        "\n",
        "For an (n, k) and (k, m) matrix multiplication, \n",
        "Number of additions = n * m * (k-1)\n",
        "Number of multiplications = n * m * k\n",
        "\n",
        "It is because for each element of the resultant matrix, k multiplications and k-1 additions are performed. And the resultant matrix is of size (n, m)."
      ]
    },
    {
      "cell_type": "markdown",
      "metadata": {
        "id": "wU5iPUfurnbs"
      },
      "source": [
        "**Qn 2**"
      ]
    },
    {
      "cell_type": "code",
      "execution_count": null,
      "metadata": {
        "colab": {
          "base_uri": "https://localhost:8080/"
        },
        "id": "L5LfxixJtqV2",
        "outputId": "83269e45-320e-41d5-8647-260d2f125519"
      },
      "outputs": [
        {
          "output_type": "stream",
          "name": "stdout",
          "text": [
            "n =  10 , m =  5 , k = 10 :\n",
            "Time using Lists:  0.00020505428314208983 ± 2.1920065166770418e-05\n",
            "Time using Numpy:  5.424976348876953e-05 ± 1.286035296549025e-05\n",
            "\n",
            "n =  50 , m =  25 , k = 50 :\n",
            "Time using Lists:  0.014696571826934814 ± 0.006154737767395086\n",
            "Time using Numpy:  0.0005900979042053223 ± 0.000214285192537105\n",
            "\n",
            "n =  100 , m =  100 , k = 100 :\n",
            "Time using Lists:  0.3148094391822815 ± 0.1453924286281467\n",
            "Time using Numpy:  0.004873826503753662 ± 0.003243648160431181\n",
            "\n"
          ]
        }
      ],
      "source": [
        "def mat_mul_list(a, b):\n",
        "  c = []\n",
        "  for i in range(n):\n",
        "    r = []\n",
        "    for j in range(m):\n",
        "      s = 0\n",
        "      for x in range(k):\n",
        "        s += a[i][x] * b[x][j]\n",
        "      r.append(s)\n",
        "    c.append(r.copy())\n",
        "  return c\n",
        "\n",
        "def mat_mul_numpy(a, b):\n",
        "  a_array = np.array(a)\n",
        "  b_array = np.array(b)\n",
        "  c_array = np.matmul(a_array, b_array)\n",
        "  return c_array.tolist()\n",
        "\n",
        "n_list = [10, 50, 100]\n",
        "m_list = [5, 25, 100]\n",
        "k_list = [10, 50, 100]\n",
        "\n",
        "for i in range(3):\n",
        "  n = n_list[i]\n",
        "  m = m_list[i]\n",
        "  k = k_list[i]\n",
        "  a = [[i for i in range(k)] for i in range(n)]\n",
        "  b = [[i for i in range(m)] for i in range(k)]\n",
        "  \n",
        "  runtime_list = []\n",
        "  runtime_np = []\n",
        "\n",
        "  for j in range(100):  \n",
        "    st = time.time()\n",
        "    mat_mul_list(a, b)\n",
        "    end = time.time()\n",
        "\n",
        "    runtime_list.append(end - st)\n",
        "    \n",
        "    st = time.time()\n",
        "    mat_mul_numpy(a, b)\n",
        "    end = time.time()\n",
        "    \n",
        "    runtime_np.append(end - st)\n",
        "  print('n = ', n, ', m = ', m, ', k =', k, \":\")\n",
        "  print(\"Time using Lists: \", np.mean(runtime_list), '\\u00B1', np.std(runtime_list))\n",
        "  print(\"Time using Numpy: \", np.mean(runtime_np), '\\u00B1', np.std(runtime_np))\n",
        "  print()\n"
      ]
    },
    {
      "cell_type": "markdown",
      "metadata": {
        "id": "qzcpKcY6yGRT"
      },
      "source": [
        "The output using the numpy arrays are faster because the python lists are represented using a pyvar object where each element has the address to the pyobject on the memory. Also, the all the elements of a python lists are not stored in a contigious manned in the memory. Hence, memory access for python lists take more time than a numpy aray where every element of the array is of a fixed size and type and stored in contigious manner."
      ]
    },
    {
      "cell_type": "markdown",
      "metadata": {
        "id": "KLMjDeB438rz"
      },
      "source": [
        "**Qn 3**\n",
        "\n",
        "If finding the first highest element takes 1 pass, second highest element takes 2 passes. Then finding the median i.e. n/2th highest element takes n/2 passes.\n",
        "And each pass looks at n elements.\n",
        "<br/> \n",
        "Hence, time complexity of this solution would be $O(n^2)$.\n",
        "\n",
        "The below code implements this approach."
      ]
    },
    {
      "cell_type": "code",
      "execution_count": null,
      "metadata": {
        "id": "R94qtRG949yt"
      },
      "outputs": [],
      "source": [
        "def find_nth_highest(lst, n):\n",
        "  if(len(lst) == 0):\n",
        "    return None\n",
        "  \n",
        "  l = lst.copy()\n",
        "\n",
        "  for j in range(0, n):\n",
        "    highest = None\n",
        "    for i in l:\n",
        "      if i == None:\n",
        "        continue\n",
        "      \n",
        "      if highest == None:\n",
        "        highest = i\n",
        "      elif highest < i:\n",
        "        highest = i\n",
        "    \n",
        "    l[l.index(highest)] = None\n",
        "  return highest\n",
        "\n",
        "def find_median_naive(lst):\n",
        "  if len(lst) % 2 == 0:\n",
        "    median = (find_nth_highest(lst, int(len(lst)/2)) + find_nth_highest(lst, int(len(lst)/2) + 1))/2\n",
        "  else:\n",
        "    median = find_nth_highest(lst, int(len(lst)/2 + 1))\n",
        "  return median\n"
      ]
    },
    {
      "cell_type": "markdown",
      "metadata": {
        "id": "RZuLmlhE-k-E"
      },
      "source": [
        "A better way to find median is sorting the list and then returning the middle element.\n",
        "\n",
        "The below function does implements that approach."
      ]
    },
    {
      "cell_type": "code",
      "execution_count": null,
      "metadata": {
        "id": "sv0hhwmb68iE"
      },
      "outputs": [],
      "source": [
        "def find_median_sort(lst):\n",
        "  l = lst.copy()\n",
        "  l.sort()\n",
        "\n",
        "  if len(l) % 2 == 0:\n",
        "    median = (l[int(len(l)/2)] + l[int(len(l)/2)-1] )/2 \n",
        "  else:\n",
        "    median = l[int(len(l)/2) ]\n",
        "  return median"
      ]
    },
    {
      "cell_type": "markdown",
      "metadata": {
        "id": "yiZni70EBvm_"
      },
      "source": [
        "Function to finding median using numpy library"
      ]
    },
    {
      "cell_type": "code",
      "execution_count": null,
      "metadata": {
        "id": "ZSZVcgIFB9a_"
      },
      "outputs": [],
      "source": [
        "def find_median_numpy(lst):\n",
        "  return np.median(lst)"
      ]
    },
    {
      "cell_type": "code",
      "execution_count": null,
      "metadata": {
        "colab": {
          "base_uri": "https://localhost:8080/"
        },
        "id": "9Jxn9qtO7v_W",
        "outputId": "088b2ee0-079c-47b2-9da0-cd63cfbf3849"
      },
      "outputs": [
        {
          "output_type": "stream",
          "name": "stdout",
          "text": [
            "Using Naive approach:  10\n",
            "Using Sorting function:  10\n",
            "Using Numpy function:  10.0\n"
          ]
        }
      ],
      "source": [
        "lst = [i for i in range(1, 20)]\n",
        "\n",
        "print(\"Using Naive approach: \",find_median_naive(lst))\n",
        "print(\"Using Sorting function: \",find_median_sort(lst))\n",
        "print(\"Using Numpy function: \",find_median_numpy(lst))"
      ]
    },
    {
      "cell_type": "code",
      "execution_count": null,
      "metadata": {
        "colab": {
          "base_uri": "https://localhost:8080/"
        },
        "id": "b24MhylAAsGp",
        "outputId": "2c88b002-583b-4196-e0c5-b1c8cf304dec"
      },
      "outputs": [
        {
          "output_type": "stream",
          "name": "stdout",
          "text": [
            "For n =  100 :\n",
            "Time using Naive approach:  0.0007181644439697265 ± 0.00016946595596359088\n",
            "Time using Sorting function:  5.18957773844401e-06 ± 3.600927463174938e-06\n",
            "Time using Numpy library:  9.814898173014323e-05 ± 0.00012701509472589059\n",
            "\n",
            "For n =  500 :\n",
            "Time using Naive approach:  0.017137726147969563 ± 0.0022728762152751875\n",
            "Time using Sorting function:  2.2196769714355467e-05 ± 1.9636907396325792e-05\n",
            "Time using Numpy library:  0.0002501328786214193 ± 0.00016084154798319807\n",
            "\n",
            "For n =  1000 :\n",
            "Time using Naive approach:  0.06842726866404215 ± 0.00719941411408295\n",
            "Time using Sorting function:  2.6520093282063802e-05 ± 3.4062349511429922e-06\n",
            "Time using Numpy library:  0.00029607613881429035 ± 7.73129629161882e-05\n",
            "\n",
            "For n =  2000 :\n",
            "Time using Naive approach:  0.2649237553278605 ± 0.007656267037635457\n",
            "Time using Sorting function:  3.784497578938802e-05 ± 2.9892361578674006e-06\n",
            "Time using Numpy library:  0.0003435929616292318 ± 4.593939911510389e-05\n",
            "\n",
            "For n =  3500 :\n",
            "Time using Naive approach:  0.872857642173767 ± 0.14744272079538853\n",
            "Time using Sorting function:  8.191267649332682e-05 ± 0.0001148278378485662\n",
            "Time using Numpy library:  0.0005072116851806641 ± 0.00014178101078447938\n",
            "\n"
          ]
        }
      ],
      "source": [
        "# For Runtime Calculation\n",
        "\n",
        "# n_list = [100, 500, 1000, 2000, 3500]\n",
        "n_list = [100, 500, 1000, 2000, 3500]\n",
        "\n",
        "for n in n_list:\n",
        "  lst = [i for i in range(1, n)]\n",
        "  runtime_naive = []\n",
        "  runtime_sort = []\n",
        "  runtime_np = []\n",
        "\n",
        "  for i in range(30):    \n",
        "    start = time.time()\n",
        "    find_median_naive(lst)\n",
        "    end = time.time()\n",
        "    runtime_naive.append(end - start)\n",
        "\n",
        "    start = time.time()\n",
        "    find_median_sort(lst)\n",
        "    end = time.time()\n",
        "    runtime_sort.append(end - start)\n",
        "\n",
        "    start = time.time()\n",
        "    find_median_numpy(lst)\n",
        "    end = time.time()\n",
        "    runtime_np.append(end - start)\n",
        "\n",
        "  print(\"For n = \", n, \":\")\n",
        "  print(\"Time using Naive approach: \", np.mean(runtime_naive), \"\\u00B1\", np.std(runtime_naive))\n",
        "  print(\"Time using Sorting function: \", np.mean(runtime_sort), \"\\u00B1\", np.std(runtime_sort))\n",
        "  print(\"Time using Numpy library: \", np.mean(runtime_np), \"\\u00B1\", np.std(runtime_np))\n",
        "  print()"
      ]
    },
    {
      "cell_type": "markdown",
      "metadata": {
        "id": "o44ET2w7sS-n"
      },
      "source": [
        "**Qn 4**\n",
        "\n",
        "The required gradients are \n",
        "\n",
        "\\begin{align}\n",
        "  p(x, y) = \\frac{δ[x^2y + y^3 sin(x)]}{δx} = 2xy + y^3cos(x)\n",
        "\\end{align}\n",
        "\n",
        "<br/>\n",
        "<br/>\n",
        "\\begin{align}\n",
        "  q(x, y) = \\frac{δ[x^2y + y^3 sin(x)]}{δy} =  x^2 + 3y^2sin(x)\n",
        "\\end{align}\n",
        "\n",
        "$p(1.0, 1.0) = 2.54030230586$\n",
        "<br/>\n",
        "$q(1.0, 1.0) = 3.52441295442$\n",
        "<br/>\n",
        "<br/>\n",
        "\n",
        "$p(0.0, 1.0) = 1.0$\n",
        "<br/>\n",
        "$q(0.0, 1.0) = 0.0$"
      ]
    },
    {
      "cell_type": "markdown",
      "metadata": {
        "id": "Xh5IlzHXwF4R"
      },
      "source": [
        "**Qn 5**\n",
        "\n",
        "Gradient using JAX"
      ]
    },
    {
      "cell_type": "code",
      "execution_count": null,
      "metadata": {
        "colab": {
          "base_uri": "https://localhost:8080/"
        },
        "id": "ulv0iJ3LxvBh",
        "outputId": "c41e6d1e-c335-46ef-ff8a-587ace1209cf"
      },
      "outputs": [
        {
          "output_type": "stream",
          "name": "stdout",
          "text": [
            "p(1.0, 1.0) = 2.5403023\n",
            "q(1.0, 1.0) = 3.5244129 \n",
            "\n",
            "p(0.0, 1.0) = 1.0\n",
            "q(0.0, 1.0) = 0.0\n"
          ]
        }
      ],
      "source": [
        "from jax import grad\n",
        "from jax.numpy import sin\n",
        "\n",
        "def f(x, y):\n",
        "  return ((x**2)*y) + ((y**3) * sin(x))\n",
        "\n",
        "x_grad = grad(f, argnums=0)\n",
        "y_grad = grad(f, argnums=1)\n",
        "\n",
        "print(\"p(1.0, 1.0) =\", x_grad(1.0, 1.0))\n",
        "print(\"q(1.0, 1.0) =\", y_grad(1.0, 1.0), \"\\n\")\n",
        "print(\"p(0.0, 1.0) =\", x_grad(0.0, 1.0))\n",
        "print(\"q(0.0, 1.0) =\", y_grad(0.0, 1.0))"
      ]
    },
    {
      "cell_type": "markdown",
      "metadata": {
        "id": "O3Cgozwn42Ic"
      },
      "source": [
        "The above outputs confirm that the gradient evaluated by my method matches with the one evaluated by the analytical solution."
      ]
    },
    {
      "cell_type": "markdown",
      "metadata": {
        "id": "l40gCBPO5D9s"
      },
      "source": [
        "**Qn 6**\n",
        "\n",
        "Using sympy to obtain the same gradient"
      ]
    },
    {
      "cell_type": "code",
      "execution_count": null,
      "metadata": {
        "id": "7XOeI-t75QvH"
      },
      "outputs": [],
      "source": [
        "from sympy import *\n",
        "\n",
        "x, y = symbols('x y')\n",
        "exp =  x**2*y + y**3*sin(x)"
      ]
    },
    {
      "cell_type": "code",
      "execution_count": null,
      "metadata": {
        "colab": {
          "base_uri": "https://localhost:8080/",
          "height": 39
        },
        "id": "z1fq6yKCEVaB",
        "outputId": "791d7c0b-6ee5-4296-f00b-66d7d3d67a80"
      },
      "outputs": [
        {
          "output_type": "execute_result",
          "data": {
            "text/plain": [
              "         3       \n",
              "2⋅x⋅y + y ⋅cos(x)"
            ],
            "image/png": "[encoded data removed]",
            "text/latex": "$\\displaystyle 2 x y + y^{3} \\cos{\\left(x \\right)}$"
          },
          "metadata": {},
          "execution_count": 228
        }
      ],
      "source": [
        "diff(exp, x)"
      ]
    },
    {
      "cell_type": "code",
      "execution_count": null,
      "metadata": {
        "colab": {
          "base_uri": "https://localhost:8080/",
          "height": 39
        },
        "id": "R-ZFqKRdFIcD",
        "outputId": "7da36139-4cf2-47df-827f-bdfffe63ad72"
      },
      "outputs": [
        {
          "output_type": "execute_result",
          "data": {
            "text/plain": [
              " 2      2       \n",
              "x  + 3⋅y ⋅sin(x)"
            ],
            "image/png": "[encoded data removed]",
            "text/latex": "$\\displaystyle x^{2} + 3 y^{2} \\sin{\\left(x \\right)}$"
          },
          "metadata": {},
          "execution_count": 229
        }
      ],
      "source": [
        "diff(exp, y)"
      ]
    },
    {
      "cell_type": "markdown",
      "metadata": {
        "id": "kHc3zEqFFarS"
      },
      "source": [
        "The analytical solutions are verified by using sympy"
      ]
    },
    {
      "cell_type": "markdown",
      "metadata": {
        "id": "dkinreMfFiAr"
      },
      "source": [
        "**Qn 7**\n",
        "\n",
        "Code to create a nested python dictionary to store the student information"
      ]
    },
    {
      "cell_type": "code",
      "execution_count": null,
      "metadata": {
        "colab": {
          "base_uri": "https://localhost:8080/",
          "height": 897
        },
        "id": "O01gsAcGFTr1",
        "outputId": "574f1128-fd48-481f-d42e-cf50ebca30aa"
      },
      "outputs": [
        {
          "output_type": "display_data",
          "data": {
            "text/plain": [
              "\u001b[1m{\u001b[0m\n",
              "\u001b[2;32m│   \u001b[0m\u001b[1;36m2022\u001b[0m: \u001b[1m{\u001b[0m\n",
              "\u001b[2;32m│   │   \u001b[0m\u001b[32m'Branch 1'\u001b[0m: \u001b[1m[\u001b[0m\n",
              "\u001b[2;32m│   │   │   \u001b[0m\u001b[1m{\u001b[0m\u001b[32m'roll no.'\u001b[0m: \u001b[1;36m1\u001b[0m, \u001b[32m'name'\u001b[0m: \u001b[32m'John'\u001b[0m, \u001b[32m'marks'\u001b[0m: \u001b[1m[\u001b[0m\u001b[1m{\u001b[0m\u001b[32m'Maths'\u001b[0m: \u001b[1;36m100\u001b[0m, \u001b[32m'English'\u001b[0m: \u001b[1;36m98\u001b[0m\u001b[1m}\u001b[0m\u001b[1m]\u001b[0m\u001b[1m}\u001b[0m,\n",
              "\u001b[2;32m│   │   │   \u001b[0m\u001b[1m{\u001b[0m\u001b[32m'roll no.'\u001b[0m: \u001b[1;36m2\u001b[0m, \u001b[32m'name'\u001b[0m: \u001b[32m'John'\u001b[0m, \u001b[32m'marks'\u001b[0m: \u001b[1m[\u001b[0m\u001b[1m{\u001b[0m\u001b[32m'Maths'\u001b[0m: \u001b[1;36m100\u001b[0m, \u001b[32m'English'\u001b[0m: \u001b[1;36m98\u001b[0m\u001b[1m}\u001b[0m\u001b[1m]\u001b[0m\u001b[1m}\u001b[0m,\n",
              "\u001b[2;32m│   │   │   \u001b[0m\u001b[1m{\u001b[0m\u001b[32m'roll no.'\u001b[0m: \u001b[1;36m3\u001b[0m, \u001b[32m'name'\u001b[0m: \u001b[32m'John'\u001b[0m, \u001b[32m'marks'\u001b[0m: \u001b[1m[\u001b[0m\u001b[1m{\u001b[0m\u001b[32m'Maths'\u001b[0m: \u001b[1;36m100\u001b[0m, \u001b[32m'English'\u001b[0m: \u001b[1;36m98\u001b[0m\u001b[1m}\u001b[0m\u001b[1m]\u001b[0m\u001b[1m}\u001b[0m\n",
              "\u001b[2;32m│   │   \u001b[0m\u001b[1m]\u001b[0m,\n",
              "\u001b[2;32m│   │   \u001b[0m\u001b[32m'Branch 2'\u001b[0m: \u001b[1m[\u001b[0m\n",
              "\u001b[2;32m│   │   │   \u001b[0m\u001b[1m{\u001b[0m\u001b[32m'roll no.'\u001b[0m: \u001b[1;36m1\u001b[0m, \u001b[32m'name'\u001b[0m: \u001b[32m'John'\u001b[0m, \u001b[32m'marks'\u001b[0m: \u001b[1m[\u001b[0m\u001b[1m{\u001b[0m\u001b[32m'Maths'\u001b[0m: \u001b[1;36m100\u001b[0m, \u001b[32m'English'\u001b[0m: \u001b[1;36m98\u001b[0m\u001b[1m}\u001b[0m\u001b[1m]\u001b[0m\u001b[1m}\u001b[0m,\n",
              "\u001b[2;32m│   │   │   \u001b[0m\u001b[1m{\u001b[0m\u001b[32m'roll no.'\u001b[0m: \u001b[1;36m2\u001b[0m, \u001b[32m'name'\u001b[0m: \u001b[32m'John'\u001b[0m, \u001b[32m'marks'\u001b[0m: \u001b[1m[\u001b[0m\u001b[1m{\u001b[0m\u001b[32m'Maths'\u001b[0m: \u001b[1;36m100\u001b[0m, \u001b[32m'English'\u001b[0m: \u001b[1;36m98\u001b[0m\u001b[1m}\u001b[0m\u001b[1m]\u001b[0m\u001b[1m}\u001b[0m,\n",
              "\u001b[2;32m│   │   │   \u001b[0m\u001b[1m{\u001b[0m\u001b[32m'roll no.'\u001b[0m: \u001b[1;36m3\u001b[0m, \u001b[32m'name'\u001b[0m: \u001b[32m'John'\u001b[0m, \u001b[32m'marks'\u001b[0m: \u001b[1m[\u001b[0m\u001b[1m{\u001b[0m\u001b[32m'Maths'\u001b[0m: \u001b[1;36m100\u001b[0m, \u001b[32m'English'\u001b[0m: \u001b[1;36m98\u001b[0m\u001b[1m}\u001b[0m\u001b[1m]\u001b[0m\u001b[1m}\u001b[0m\n",
              "\u001b[2;32m│   │   \u001b[0m\u001b[1m]\u001b[0m,\n",
              "\u001b[2;32m│   │   \u001b[0m\u001b[32m'Branch 3'\u001b[0m: \u001b[1m[\u001b[0m\n",
              "\u001b[2;32m│   │   │   \u001b[0m\u001b[1m{\u001b[0m\u001b[32m'roll no.'\u001b[0m: \u001b[1;36m1\u001b[0m, \u001b[32m'name'\u001b[0m: \u001b[32m'John'\u001b[0m, \u001b[32m'marks'\u001b[0m: \u001b[1m[\u001b[0m\u001b[1m{\u001b[0m\u001b[32m'Maths'\u001b[0m: \u001b[1;36m100\u001b[0m, \u001b[32m'English'\u001b[0m: \u001b[1;36m98\u001b[0m\u001b[1m}\u001b[0m\u001b[1m]\u001b[0m\u001b[1m}\u001b[0m,\n",
              "\u001b[2;32m│   │   │   \u001b[0m\u001b[1m{\u001b[0m\u001b[32m'roll no.'\u001b[0m: \u001b[1;36m2\u001b[0m, \u001b[32m'name'\u001b[0m: \u001b[32m'John'\u001b[0m, \u001b[32m'marks'\u001b[0m: \u001b[1m[\u001b[0m\u001b[1m{\u001b[0m\u001b[32m'Maths'\u001b[0m: \u001b[1;36m100\u001b[0m, \u001b[32m'English'\u001b[0m: \u001b[1;36m98\u001b[0m\u001b[1m}\u001b[0m\u001b[1m]\u001b[0m\u001b[1m}\u001b[0m,\n",
              "\u001b[2;32m│   │   │   \u001b[0m\u001b[1m{\u001b[0m\u001b[32m'roll no.'\u001b[0m: \u001b[1;36m3\u001b[0m, \u001b[32m'name'\u001b[0m: \u001b[32m'John'\u001b[0m, \u001b[32m'marks'\u001b[0m: \u001b[1m[\u001b[0m\u001b[1m{\u001b[0m\u001b[32m'Maths'\u001b[0m: \u001b[1;36m100\u001b[0m, \u001b[32m'English'\u001b[0m: \u001b[1;36m98\u001b[0m\u001b[1m}\u001b[0m\u001b[1m]\u001b[0m\u001b[1m}\u001b[0m\n",
              "\u001b[2;32m│   │   \u001b[0m\u001b[1m]\u001b[0m\n",
              "\u001b[2;32m│   \u001b[0m\u001b[1m}\u001b[0m\n",
              "\u001b[1m}\u001b[0m\n"
            ],
            "text/html": [
              "<pre style=\"white-space:pre;overflow-x:auto;line-height:normal;font-family:Menlo,'DejaVu Sans Mono',consolas,'Courier New',monospace\"><span style=\"font-weight: bold\">{</span>\n",
              "<span style=\"color: #7fbf7f; text-decoration-color: #7fbf7f\">│   </span><span style=\"color: #008080; text-decoration-color: #008080; font-weight: bold\">2022</span>: <span style=\"font-weight: bold\">{</span>\n",
              "<span style=\"color: #7fbf7f; text-decoration-color: #7fbf7f\">│   │   </span><span style=\"color: #008000; text-decoration-color: #008000\">'Branch 1'</span>: <span style=\"font-weight: bold\">[</span>\n",
              "<span style=\"color: #7fbf7f; text-decoration-color: #7fbf7f\">│   │   │   </span><span style=\"font-weight: bold\">{</span><span style=\"color: #008000; text-decoration-color: #008000\">'roll no.'</span>: <span style=\"color: #008080; text-decoration-color: #008080; font-weight: bold\">1</span>, <span style=\"color: #008000; text-decoration-color: #008000\">'name'</span>: <span style=\"color: #008000; text-decoration-color: #008000\">'John'</span>, <span style=\"color: #008000; text-decoration-color: #008000\">'marks'</span>: <span style=\"font-weight: bold\">[{</span><span style=\"color: #008000; text-decoration-color: #008000\">'Maths'</span>: <span style=\"color: #008080; text-decoration-color: #008080; font-weight: bold\">100</span>, <span style=\"color: #008000; text-decoration-color: #008000\">'English'</span>: <span style=\"color: #008080; text-decoration-color: #008080; font-weight: bold\">98</span><span style=\"font-weight: bold\">}]}</span>,\n",
              "<span style=\"color: #7fbf7f; text-decoration-color: #7fbf7f\">│   │   │   </span><span style=\"font-weight: bold\">{</span><span style=\"color: #008000; text-decoration-color: #008000\">'roll no.'</span>: <span style=\"color: #008080; text-decoration-color: #008080; font-weight: bold\">2</span>, <span style=\"color: #008000; text-decoration-color: #008000\">'name'</span>: <span style=\"color: #008000; text-decoration-color: #008000\">'John'</span>, <span style=\"color: #008000; text-decoration-color: #008000\">'marks'</span>: <span style=\"font-weight: bold\">[{</span><span style=\"color: #008000; text-decoration-color: #008000\">'Maths'</span>: <span style=\"color: #008080; text-decoration-color: #008080; font-weight: bold\">100</span>, <span style=\"color: #008000; text-decoration-color: #008000\">'English'</span>: <span style=\"color: #008080; text-decoration-color: #008080; font-weight: bold\">98</span><span style=\"font-weight: bold\">}]}</span>,\n",
              "<span style=\"color: #7fbf7f; text-decoration-color: #7fbf7f\">│   │   │   </span><span style=\"font-weight: bold\">{</span><span style=\"color: #008000; text-decoration-color: #008000\">'roll no.'</span>: <span style=\"color: #008080; text-decoration-color: #008080; font-weight: bold\">3</span>, <span style=\"color: #008000; text-decoration-color: #008000\">'name'</span>: <span style=\"color: #008000; text-decoration-color: #008000\">'John'</span>, <span style=\"color: #008000; text-decoration-color: #008000\">'marks'</span>: <span style=\"font-weight: bold\">[{</span><span style=\"color: #008000; text-decoration-color: #008000\">'Maths'</span>: <span style=\"color: #008080; text-decoration-color: #008080; font-weight: bold\">100</span>, <span style=\"color: #008000; text-decoration-color: #008000\">'English'</span>: <span style=\"color: #008080; text-decoration-color: #008080; font-weight: bold\">98</span><span style=\"font-weight: bold\">}]}</span>\n",
              "<span style=\"color: #7fbf7f; text-decoration-color: #7fbf7f\">│   │   </span><span style=\"font-weight: bold\">]</span>,\n",
              "<span style=\"color: #7fbf7f; text-decoration-color: #7fbf7f\">│   │   </span><span style=\"color: #008000; text-decoration-color: #008000\">'Branch 2'</span>: <span style=\"font-weight: bold\">[</span>\n",
              "<span style=\"color: #7fbf7f; text-decoration-color: #7fbf7f\">│   │   │   </span><span style=\"font-weight: bold\">{</span><span style=\"color: #008000; text-decoration-color: #008000\">'roll no.'</span>: <span style=\"color: #008080; text-decoration-color: #008080; font-weight: bold\">1</span>, <span style=\"color: #008000; text-decoration-color: #008000\">'name'</span>: <span style=\"color: #008000; text-decoration-color: #008000\">'John'</span>, <span style=\"color: #008000; text-decoration-color: #008000\">'marks'</span>: <span style=\"font-weight: bold\">[{</span><span style=\"color: #008000; text-decoration-color: #008000\">'Maths'</span>: <span style=\"color: #008080; text-decoration-color: #008080; font-weight: bold\">100</span>, <span style=\"color: #008000; text-decoration-color: #008000\">'English'</span>: <span style=\"color: #008080; text-decoration-color: #008080; font-weight: bold\">98</span><span style=\"font-weight: bold\">}]}</span>,\n",
              "<span style=\"color: #7fbf7f; text-decoration-color: #7fbf7f\">│   │   │   </span><span style=\"font-weight: bold\">{</span><span style=\"color: #008000; text-decoration-color: #008000\">'roll no.'</span>: <span style=\"color: #008080; text-decoration-color: #008080; font-weight: bold\">2</span>, <span style=\"color: #008000; text-decoration-color: #008000\">'name'</span>: <span style=\"color: #008000; text-decoration-color: #008000\">'John'</span>, <span style=\"color: #008000; text-decoration-color: #008000\">'marks'</span>: <span style=\"font-weight: bold\">[{</span><span style=\"color: #008000; text-decoration-color: #008000\">'Maths'</span>: <span style=\"color: #008080; text-decoration-color: #008080; font-weight: bold\">100</span>, <span style=\"color: #008000; text-decoration-color: #008000\">'English'</span>: <span style=\"color: #008080; text-decoration-color: #008080; font-weight: bold\">98</span><span style=\"font-weight: bold\">}]}</span>,\n",
              "<span style=\"color: #7fbf7f; text-decoration-color: #7fbf7f\">│   │   │   </span><span style=\"font-weight: bold\">{</span><span style=\"color: #008000; text-decoration-color: #008000\">'roll no.'</span>: <span style=\"color: #008080; text-decoration-color: #008080; font-weight: bold\">3</span>, <span style=\"color: #008000; text-decoration-color: #008000\">'name'</span>: <span style=\"color: #008000; text-decoration-color: #008000\">'John'</span>, <span style=\"color: #008000; text-decoration-color: #008000\">'marks'</span>: <span style=\"font-weight: bold\">[{</span><span style=\"color: #008000; text-decoration-color: #008000\">'Maths'</span>: <span style=\"color: #008080; text-decoration-color: #008080; font-weight: bold\">100</span>, <span style=\"color: #008000; text-decoration-color: #008000\">'English'</span>: <span style=\"color: #008080; text-decoration-color: #008080; font-weight: bold\">98</span><span style=\"font-weight: bold\">}]}</span>\n",
              "<span style=\"color: #7fbf7f; text-decoration-color: #7fbf7f\">│   │   </span><span style=\"font-weight: bold\">]</span>,\n",
              "<span style=\"color: #7fbf7f; text-decoration-color: #7fbf7f\">│   │   </span><span style=\"color: #008000; text-decoration-color: #008000\">'Branch 3'</span>: <span style=\"font-weight: bold\">[</span>\n",
              "<span style=\"color: #7fbf7f; text-decoration-color: #7fbf7f\">│   │   │   </span><span style=\"font-weight: bold\">{</span><span style=\"color: #008000; text-decoration-color: #008000\">'roll no.'</span>: <span style=\"color: #008080; text-decoration-color: #008080; font-weight: bold\">1</span>, <span style=\"color: #008000; text-decoration-color: #008000\">'name'</span>: <span style=\"color: #008000; text-decoration-color: #008000\">'John'</span>, <span style=\"color: #008000; text-decoration-color: #008000\">'marks'</span>: <span style=\"font-weight: bold\">[{</span><span style=\"color: #008000; text-decoration-color: #008000\">'Maths'</span>: <span style=\"color: #008080; text-decoration-color: #008080; font-weight: bold\">100</span>, <span style=\"color: #008000; text-decoration-color: #008000\">'English'</span>: <span style=\"color: #008080; text-decoration-color: #008080; font-weight: bold\">98</span><span style=\"font-weight: bold\">}]}</span>,\n",
              "<span style=\"color: #7fbf7f; text-decoration-color: #7fbf7f\">│   │   │   </span><span style=\"font-weight: bold\">{</span><span style=\"color: #008000; text-decoration-color: #008000\">'roll no.'</span>: <span style=\"color: #008080; text-decoration-color: #008080; font-weight: bold\">2</span>, <span style=\"color: #008000; text-decoration-color: #008000\">'name'</span>: <span style=\"color: #008000; text-decoration-color: #008000\">'John'</span>, <span style=\"color: #008000; text-decoration-color: #008000\">'marks'</span>: <span style=\"font-weight: bold\">[{</span><span style=\"color: #008000; text-decoration-color: #008000\">'Maths'</span>: <span style=\"color: #008080; text-decoration-color: #008080; font-weight: bold\">100</span>, <span style=\"color: #008000; text-decoration-color: #008000\">'English'</span>: <span style=\"color: #008080; text-decoration-color: #008080; font-weight: bold\">98</span><span style=\"font-weight: bold\">}]}</span>,\n",
              "<span style=\"color: #7fbf7f; text-decoration-color: #7fbf7f\">│   │   │   </span><span style=\"font-weight: bold\">{</span><span style=\"color: #008000; text-decoration-color: #008000\">'roll no.'</span>: <span style=\"color: #008080; text-decoration-color: #008080; font-weight: bold\">3</span>, <span style=\"color: #008000; text-decoration-color: #008000\">'name'</span>: <span style=\"color: #008000; text-decoration-color: #008000\">'John'</span>, <span style=\"color: #008000; text-decoration-color: #008000\">'marks'</span>: <span style=\"font-weight: bold\">[{</span><span style=\"color: #008000; text-decoration-color: #008000\">'Maths'</span>: <span style=\"color: #008080; text-decoration-color: #008080; font-weight: bold\">100</span>, <span style=\"color: #008000; text-decoration-color: #008000\">'English'</span>: <span style=\"color: #008080; text-decoration-color: #008080; font-weight: bold\">98</span><span style=\"font-weight: bold\">}]}</span>\n",
              "<span style=\"color: #7fbf7f; text-decoration-color: #7fbf7f\">│   │   </span><span style=\"font-weight: bold\">]</span>\n",
              "<span style=\"color: #7fbf7f; text-decoration-color: #7fbf7f\">│   </span><span style=\"font-weight: bold\">}</span>\n",
              "<span style=\"font-weight: bold\">}</span>\n",
              "</pre>\n"
            ]
          },
          "metadata": {}
        },
        {
          "output_type": "display_data",
          "data": {
            "text/plain": [
              "\u001b[1m{\u001b[0m\n",
              "\u001b[2;32m│   \u001b[0m\u001b[1;36m2022\u001b[0m: \u001b[1m{\u001b[0m\n",
              "\u001b[2;32m│   │   \u001b[0m\u001b[32m'Branch 1'\u001b[0m: \u001b[1m[\u001b[0m\n",
              "\u001b[2;32m│   │   │   \u001b[0m\u001b[1m{\u001b[0m\u001b[32m'roll no.'\u001b[0m: \u001b[1;36m1\u001b[0m, \u001b[32m'name'\u001b[0m: \u001b[32m'John'\u001b[0m, \u001b[32m'marks'\u001b[0m: \u001b[1m[\u001b[0m\u001b[1m{\u001b[0m\u001b[32m'Maths'\u001b[0m: \u001b[1;36m100\u001b[0m, \u001b[32m'English'\u001b[0m: \u001b[1;36m98\u001b[0m\u001b[1m}\u001b[0m\u001b[1m]\u001b[0m\u001b[1m}\u001b[0m,\n",
              "\u001b[2;32m│   │   │   \u001b[0m\u001b[1m{\u001b[0m\u001b[32m'roll no.'\u001b[0m: \u001b[1;36m2\u001b[0m, \u001b[32m'name'\u001b[0m: \u001b[32m'John'\u001b[0m, \u001b[32m'marks'\u001b[0m: \u001b[1m[\u001b[0m\u001b[1m{\u001b[0m\u001b[32m'Maths'\u001b[0m: \u001b[1;36m100\u001b[0m, \u001b[32m'English'\u001b[0m: \u001b[1;36m98\u001b[0m\u001b[1m}\u001b[0m\u001b[1m]\u001b[0m\u001b[1m}\u001b[0m,\n",
              "\u001b[2;32m│   │   │   \u001b[0m\u001b[1m{\u001b[0m\u001b[32m'roll no.'\u001b[0m: \u001b[1;36m3\u001b[0m, \u001b[32m'name'\u001b[0m: \u001b[32m'John'\u001b[0m, \u001b[32m'marks'\u001b[0m: \u001b[1m[\u001b[0m\u001b[1m{\u001b[0m\u001b[32m'Maths'\u001b[0m: \u001b[1;36m100\u001b[0m, \u001b[32m'English'\u001b[0m: \u001b[1;36m98\u001b[0m\u001b[1m}\u001b[0m\u001b[1m]\u001b[0m\u001b[1m}\u001b[0m\n",
              "\u001b[2;32m│   │   \u001b[0m\u001b[1m]\u001b[0m,\n",
              "\u001b[2;32m│   │   \u001b[0m\u001b[32m'Branch 2'\u001b[0m: \u001b[1m[\u001b[0m\n",
              "\u001b[2;32m│   │   │   \u001b[0m\u001b[1m{\u001b[0m\u001b[32m'roll no.'\u001b[0m: \u001b[1;36m1\u001b[0m, \u001b[32m'name'\u001b[0m: \u001b[32m'John'\u001b[0m, \u001b[32m'marks'\u001b[0m: \u001b[1m[\u001b[0m\u001b[1m{\u001b[0m\u001b[32m'Maths'\u001b[0m: \u001b[1;36m100\u001b[0m, \u001b[32m'English'\u001b[0m: \u001b[1;36m98\u001b[0m\u001b[1m}\u001b[0m\u001b[1m]\u001b[0m\u001b[1m}\u001b[0m,\n",
              "\u001b[2;32m│   │   │   \u001b[0m\u001b[1m{\u001b[0m\u001b[32m'roll no.'\u001b[0m: \u001b[1;36m2\u001b[0m, \u001b[32m'name'\u001b[0m: \u001b[32m'John'\u001b[0m, \u001b[32m'marks'\u001b[0m: \u001b[1m[\u001b[0m\u001b[1m{\u001b[0m\u001b[32m'Maths'\u001b[0m: \u001b[1;36m100\u001b[0m, \u001b[32m'English'\u001b[0m: \u001b[1;36m98\u001b[0m\u001b[1m}\u001b[0m\u001b[1m]\u001b[0m\u001b[1m}\u001b[0m,\n",
              "\u001b[2;32m│   │   │   \u001b[0m\u001b[1m{\u001b[0m\u001b[32m'roll no.'\u001b[0m: \u001b[1;36m3\u001b[0m, \u001b[32m'name'\u001b[0m: \u001b[32m'John'\u001b[0m, \u001b[32m'marks'\u001b[0m: \u001b[1m[\u001b[0m\u001b[1m{\u001b[0m\u001b[32m'Maths'\u001b[0m: \u001b[1;36m100\u001b[0m, \u001b[32m'English'\u001b[0m: \u001b[1;36m98\u001b[0m\u001b[1m}\u001b[0m\u001b[1m]\u001b[0m\u001b[1m}\u001b[0m\n",
              "\u001b[2;32m│   │   \u001b[0m\u001b[1m]\u001b[0m,\n",
              "\u001b[2;32m│   │   \u001b[0m\u001b[32m'Branch 3'\u001b[0m: \u001b[1m[\u001b[0m\n",
              "\u001b[2;32m│   │   │   \u001b[0m\u001b[1m{\u001b[0m\u001b[32m'roll no.'\u001b[0m: \u001b[1;36m1\u001b[0m, \u001b[32m'name'\u001b[0m: \u001b[32m'John'\u001b[0m, \u001b[32m'marks'\u001b[0m: \u001b[1m[\u001b[0m\u001b[1m{\u001b[0m\u001b[32m'Maths'\u001b[0m: \u001b[1;36m100\u001b[0m, \u001b[32m'English'\u001b[0m: \u001b[1;36m98\u001b[0m\u001b[1m}\u001b[0m\u001b[1m]\u001b[0m\u001b[1m}\u001b[0m,\n",
              "\u001b[2;32m│   │   │   \u001b[0m\u001b[1m{\u001b[0m\u001b[32m'roll no.'\u001b[0m: \u001b[1;36m2\u001b[0m, \u001b[32m'name'\u001b[0m: \u001b[32m'John'\u001b[0m, \u001b[32m'marks'\u001b[0m: \u001b[1m[\u001b[0m\u001b[1m{\u001b[0m\u001b[32m'Maths'\u001b[0m: \u001b[1;36m100\u001b[0m, \u001b[32m'English'\u001b[0m: \u001b[1;36m98\u001b[0m\u001b[1m}\u001b[0m\u001b[1m]\u001b[0m\u001b[1m}\u001b[0m,\n",
              "\u001b[2;32m│   │   │   \u001b[0m\u001b[1m{\u001b[0m\u001b[32m'roll no.'\u001b[0m: \u001b[1;36m3\u001b[0m, \u001b[32m'name'\u001b[0m: \u001b[32m'John'\u001b[0m, \u001b[32m'marks'\u001b[0m: \u001b[1m[\u001b[0m\u001b[1m{\u001b[0m\u001b[32m'Maths'\u001b[0m: \u001b[1;36m100\u001b[0m, \u001b[32m'English'\u001b[0m: \u001b[1;36m98\u001b[0m\u001b[1m}\u001b[0m\u001b[1m]\u001b[0m\u001b[1m}\u001b[0m\n",
              "\u001b[2;32m│   │   \u001b[0m\u001b[1m]\u001b[0m\n",
              "\u001b[2;32m│   \u001b[0m\u001b[1m}\u001b[0m,\n",
              "\u001b[2;32m│   \u001b[0m\u001b[1;36m2023\u001b[0m: \u001b[1m{\u001b[0m\n",
              "\u001b[2;32m│   │   \u001b[0m\u001b[32m'Branch 1'\u001b[0m: \u001b[1m[\u001b[0m\n",
              "\u001b[2;32m│   │   │   \u001b[0m\u001b[1m{\u001b[0m\u001b[32m'roll no.'\u001b[0m: \u001b[1;36m1\u001b[0m, \u001b[32m'name'\u001b[0m: \u001b[32m'John'\u001b[0m, \u001b[32m'marks'\u001b[0m: \u001b[1m[\u001b[0m\u001b[1m{\u001b[0m\u001b[32m'Maths'\u001b[0m: \u001b[1;36m100\u001b[0m, \u001b[32m'English'\u001b[0m: \u001b[1;36m98\u001b[0m\u001b[1m}\u001b[0m\u001b[1m]\u001b[0m\u001b[1m}\u001b[0m,\n",
              "\u001b[2;32m│   │   │   \u001b[0m\u001b[1m{\u001b[0m\u001b[32m'roll no.'\u001b[0m: \u001b[1;36m2\u001b[0m, \u001b[32m'name'\u001b[0m: \u001b[32m'John'\u001b[0m, \u001b[32m'marks'\u001b[0m: \u001b[1m[\u001b[0m\u001b[1m{\u001b[0m\u001b[32m'Maths'\u001b[0m: \u001b[1;36m100\u001b[0m, \u001b[32m'English'\u001b[0m: \u001b[1;36m98\u001b[0m\u001b[1m}\u001b[0m\u001b[1m]\u001b[0m\u001b[1m}\u001b[0m,\n",
              "\u001b[2;32m│   │   │   \u001b[0m\u001b[1m{\u001b[0m\u001b[32m'roll no.'\u001b[0m: \u001b[1;36m3\u001b[0m, \u001b[32m'name'\u001b[0m: \u001b[32m'John'\u001b[0m, \u001b[32m'marks'\u001b[0m: \u001b[1m[\u001b[0m\u001b[1m{\u001b[0m\u001b[32m'Maths'\u001b[0m: \u001b[1;36m100\u001b[0m, \u001b[32m'English'\u001b[0m: \u001b[1;36m98\u001b[0m\u001b[1m}\u001b[0m\u001b[1m]\u001b[0m\u001b[1m}\u001b[0m\n",
              "\u001b[2;32m│   │   \u001b[0m\u001b[1m]\u001b[0m,\n",
              "\u001b[2;32m│   │   \u001b[0m\u001b[32m'Branch 2'\u001b[0m: \u001b[1m[\u001b[0m\n",
              "\u001b[2;32m│   │   │   \u001b[0m\u001b[1m{\u001b[0m\u001b[32m'roll no.'\u001b[0m: \u001b[1;36m1\u001b[0m, \u001b[32m'name'\u001b[0m: \u001b[32m'John'\u001b[0m, \u001b[32m'marks'\u001b[0m: \u001b[1m[\u001b[0m\u001b[1m{\u001b[0m\u001b[32m'Maths'\u001b[0m: \u001b[1;36m100\u001b[0m, \u001b[32m'English'\u001b[0m: \u001b[1;36m98\u001b[0m\u001b[1m}\u001b[0m\u001b[1m]\u001b[0m\u001b[1m}\u001b[0m,\n",
              "\u001b[2;32m│   │   │   \u001b[0m\u001b[1m{\u001b[0m\u001b[32m'roll no.'\u001b[0m: \u001b[1;36m2\u001b[0m, \u001b[32m'name'\u001b[0m: \u001b[32m'John'\u001b[0m, \u001b[32m'marks'\u001b[0m: \u001b[1m[\u001b[0m\u001b[1m{\u001b[0m\u001b[32m'Maths'\u001b[0m: \u001b[1;36m100\u001b[0m, \u001b[32m'English'\u001b[0m: \u001b[1;36m98\u001b[0m\u001b[1m}\u001b[0m\u001b[1m]\u001b[0m\u001b[1m}\u001b[0m,\n",
              "\u001b[2;32m│   │   │   \u001b[0m\u001b[1m{\u001b[0m\u001b[32m'roll no.'\u001b[0m: \u001b[1;36m3\u001b[0m, \u001b[32m'name'\u001b[0m: \u001b[32m'John'\u001b[0m, \u001b[32m'marks'\u001b[0m: \u001b[1m[\u001b[0m\u001b[1m{\u001b[0m\u001b[32m'Maths'\u001b[0m: \u001b[1;36m100\u001b[0m, \u001b[32m'English'\u001b[0m: \u001b[1;36m98\u001b[0m\u001b[1m}\u001b[0m\u001b[1m]\u001b[0m\u001b[1m}\u001b[0m\n",
              "\u001b[2;32m│   │   \u001b[0m\u001b[1m]\u001b[0m,\n",
              "\u001b[2;32m│   │   \u001b[0m\u001b[32m'Branch 3'\u001b[0m: \u001b[1m[\u001b[0m\n",
              "\u001b[2;32m│   │   │   \u001b[0m\u001b[1m{\u001b[0m\u001b[32m'roll no.'\u001b[0m: \u001b[1;36m1\u001b[0m, \u001b[32m'name'\u001b[0m: \u001b[32m'John'\u001b[0m, \u001b[32m'marks'\u001b[0m: \u001b[1m[\u001b[0m\u001b[1m{\u001b[0m\u001b[32m'Maths'\u001b[0m: \u001b[1;36m100\u001b[0m, \u001b[32m'English'\u001b[0m: \u001b[1;36m98\u001b[0m\u001b[1m}\u001b[0m\u001b[1m]\u001b[0m\u001b[1m}\u001b[0m,\n",
              "\u001b[2;32m│   │   │   \u001b[0m\u001b[1m{\u001b[0m\u001b[32m'roll no.'\u001b[0m: \u001b[1;36m2\u001b[0m, \u001b[32m'name'\u001b[0m: \u001b[32m'John'\u001b[0m, \u001b[32m'marks'\u001b[0m: \u001b[1m[\u001b[0m\u001b[1m{\u001b[0m\u001b[32m'Maths'\u001b[0m: \u001b[1;36m100\u001b[0m, \u001b[32m'English'\u001b[0m: \u001b[1;36m98\u001b[0m\u001b[1m}\u001b[0m\u001b[1m]\u001b[0m\u001b[1m}\u001b[0m,\n",
              "\u001b[2;32m│   │   │   \u001b[0m\u001b[1m{\u001b[0m\u001b[32m'roll no.'\u001b[0m: \u001b[1;36m3\u001b[0m, \u001b[32m'name'\u001b[0m: \u001b[32m'John'\u001b[0m, \u001b[32m'marks'\u001b[0m: \u001b[1m[\u001b[0m\u001b[1m{\u001b[0m\u001b[32m'Maths'\u001b[0m: \u001b[1;36m100\u001b[0m, \u001b[32m'English'\u001b[0m: \u001b[1;36m98\u001b[0m\u001b[1m}\u001b[0m\u001b[1m]\u001b[0m\u001b[1m}\u001b[0m\n",
              "\u001b[2;32m│   │   \u001b[0m\u001b[1m]\u001b[0m\n",
              "\u001b[2;32m│   \u001b[0m\u001b[1m}\u001b[0m\n",
              "\u001b[1m}\u001b[0m\n"
            ],
            "text/html": [
              "<pre style=\"white-space:pre;overflow-x:auto;line-height:normal;font-family:Menlo,'DejaVu Sans Mono',consolas,'Courier New',monospace\"><span style=\"font-weight: bold\">{</span>\n",
              "<span style=\"color: #7fbf7f; text-decoration-color: #7fbf7f\">│   </span><span style=\"color: #008080; text-decoration-color: #008080; font-weight: bold\">2022</span>: <span style=\"font-weight: bold\">{</span>\n",
              "<span style=\"color: #7fbf7f; text-decoration-color: #7fbf7f\">│   │   </span><span style=\"color: #008000; text-decoration-color: #008000\">'Branch 1'</span>: <span style=\"font-weight: bold\">[</span>\n",
              "<span style=\"color: #7fbf7f; text-decoration-color: #7fbf7f\">│   │   │   </span><span style=\"font-weight: bold\">{</span><span style=\"color: #008000; text-decoration-color: #008000\">'roll no.'</span>: <span style=\"color: #008080; text-decoration-color: #008080; font-weight: bold\">1</span>, <span style=\"color: #008000; text-decoration-color: #008000\">'name'</span>: <span style=\"color: #008000; text-decoration-color: #008000\">'John'</span>, <span style=\"color: #008000; text-decoration-color: #008000\">'marks'</span>: <span style=\"font-weight: bold\">[{</span><span style=\"color: #008000; text-decoration-color: #008000\">'Maths'</span>: <span style=\"color: #008080; text-decoration-color: #008080; font-weight: bold\">100</span>, <span style=\"color: #008000; text-decoration-color: #008000\">'English'</span>: <span style=\"color: #008080; text-decoration-color: #008080; font-weight: bold\">98</span><span style=\"font-weight: bold\">}]}</span>,\n",
              "<span style=\"color: #7fbf7f; text-decoration-color: #7fbf7f\">│   │   │   </span><span style=\"font-weight: bold\">{</span><span style=\"color: #008000; text-decoration-color: #008000\">'roll no.'</span>: <span style=\"color: #008080; text-decoration-color: #008080; font-weight: bold\">2</span>, <span style=\"color: #008000; text-decoration-color: #008000\">'name'</span>: <span style=\"color: #008000; text-decoration-color: #008000\">'John'</span>, <span style=\"color: #008000; text-decoration-color: #008000\">'marks'</span>: <span style=\"font-weight: bold\">[{</span><span style=\"color: #008000; text-decoration-color: #008000\">'Maths'</span>: <span style=\"color: #008080; text-decoration-color: #008080; font-weight: bold\">100</span>, <span style=\"color: #008000; text-decoration-color: #008000\">'English'</span>: <span style=\"color: #008080; text-decoration-color: #008080; font-weight: bold\">98</span><span style=\"font-weight: bold\">}]}</span>,\n",
              "<span style=\"color: #7fbf7f; text-decoration-color: #7fbf7f\">│   │   │   </span><span style=\"font-weight: bold\">{</span><span style=\"color: #008000; text-decoration-color: #008000\">'roll no.'</span>: <span style=\"color: #008080; text-decoration-color: #008080; font-weight: bold\">3</span>, <span style=\"color: #008000; text-decoration-color: #008000\">'name'</span>: <span style=\"color: #008000; text-decoration-color: #008000\">'John'</span>, <span style=\"color: #008000; text-decoration-color: #008000\">'marks'</span>: <span style=\"font-weight: bold\">[{</span><span style=\"color: #008000; text-decoration-color: #008000\">'Maths'</span>: <span style=\"color: #008080; text-decoration-color: #008080; font-weight: bold\">100</span>, <span style=\"color: #008000; text-decoration-color: #008000\">'English'</span>: <span style=\"color: #008080; text-decoration-color: #008080; font-weight: bold\">98</span><span style=\"font-weight: bold\">}]}</span>\n",
              "<span style=\"color: #7fbf7f; text-decoration-color: #7fbf7f\">│   │   </span><span style=\"font-weight: bold\">]</span>,\n",
              "<span style=\"color: #7fbf7f; text-decoration-color: #7fbf7f\">│   │   </span><span style=\"color: #008000; text-decoration-color: #008000\">'Branch 2'</span>: <span style=\"font-weight: bold\">[</span>\n",
              "<span style=\"color: #7fbf7f; text-decoration-color: #7fbf7f\">│   │   │   </span><span style=\"font-weight: bold\">{</span><span style=\"color: #008000; text-decoration-color: #008000\">'roll no.'</span>: <span style=\"color: #008080; text-decoration-color: #008080; font-weight: bold\">1</span>, <span style=\"color: #008000; text-decoration-color: #008000\">'name'</span>: <span style=\"color: #008000; text-decoration-color: #008000\">'John'</span>, <span style=\"color: #008000; text-decoration-color: #008000\">'marks'</span>: <span style=\"font-weight: bold\">[{</span><span style=\"color: #008000; text-decoration-color: #008000\">'Maths'</span>: <span style=\"color: #008080; text-decoration-color: #008080; font-weight: bold\">100</span>, <span style=\"color: #008000; text-decoration-color: #008000\">'English'</span>: <span style=\"color: #008080; text-decoration-color: #008080; font-weight: bold\">98</span><span style=\"font-weight: bold\">}]}</span>,\n",
              "<span style=\"color: #7fbf7f; text-decoration-color: #7fbf7f\">│   │   │   </span><span style=\"font-weight: bold\">{</span><span style=\"color: #008000; text-decoration-color: #008000\">'roll no.'</span>: <span style=\"color: #008080; text-decoration-color: #008080; font-weight: bold\">2</span>, <span style=\"color: #008000; text-decoration-color: #008000\">'name'</span>: <span style=\"color: #008000; text-decoration-color: #008000\">'John'</span>, <span style=\"color: #008000; text-decoration-color: #008000\">'marks'</span>: <span style=\"font-weight: bold\">[{</span><span style=\"color: #008000; text-decoration-color: #008000\">'Maths'</span>: <span style=\"color: #008080; text-decoration-color: #008080; font-weight: bold\">100</span>, <span style=\"color: #008000; text-decoration-color: #008000\">'English'</span>: <span style=\"color: #008080; text-decoration-color: #008080; font-weight: bold\">98</span><span style=\"font-weight: bold\">}]}</span>,\n",
              "<span style=\"color: #7fbf7f; text-decoration-color: #7fbf7f\">│   │   │   </span><span style=\"font-weight: bold\">{</span><span style=\"color: #008000; text-decoration-color: #008000\">'roll no.'</span>: <span style=\"color: #008080; text-decoration-color: #008080; font-weight: bold\">3</span>, <span style=\"color: #008000; text-decoration-color: #008000\">'name'</span>: <span style=\"color: #008000; text-decoration-color: #008000\">'John'</span>, <span style=\"color: #008000; text-decoration-color: #008000\">'marks'</span>: <span style=\"font-weight: bold\">[{</span><span style=\"color: #008000; text-decoration-color: #008000\">'Maths'</span>: <span style=\"color: #008080; text-decoration-color: #008080; font-weight: bold\">100</span>, <span style=\"color: #008000; text-decoration-color: #008000\">'English'</span>: <span style=\"color: #008080; text-decoration-color: #008080; font-weight: bold\">98</span><span style=\"font-weight: bold\">}]}</span>\n",
              "<span style=\"color: #7fbf7f; text-decoration-color: #7fbf7f\">│   │   </span><span style=\"font-weight: bold\">]</span>,\n",
              "<span style=\"color: #7fbf7f; text-decoration-color: #7fbf7f\">│   │   </span><span style=\"color: #008000; text-decoration-color: #008000\">'Branch 3'</span>: <span style=\"font-weight: bold\">[</span>\n",
              "<span style=\"color: #7fbf7f; text-decoration-color: #7fbf7f\">│   │   │   </span><span style=\"font-weight: bold\">{</span><span style=\"color: #008000; text-decoration-color: #008000\">'roll no.'</span>: <span style=\"color: #008080; text-decoration-color: #008080; font-weight: bold\">1</span>, <span style=\"color: #008000; text-decoration-color: #008000\">'name'</span>: <span style=\"color: #008000; text-decoration-color: #008000\">'John'</span>, <span style=\"color: #008000; text-decoration-color: #008000\">'marks'</span>: <span style=\"font-weight: bold\">[{</span><span style=\"color: #008000; text-decoration-color: #008000\">'Maths'</span>: <span style=\"color: #008080; text-decoration-color: #008080; font-weight: bold\">100</span>, <span style=\"color: #008000; text-decoration-color: #008000\">'English'</span>: <span style=\"color: #008080; text-decoration-color: #008080; font-weight: bold\">98</span><span style=\"font-weight: bold\">}]}</span>,\n",
              "<span style=\"color: #7fbf7f; text-decoration-color: #7fbf7f\">│   │   │   </span><span style=\"font-weight: bold\">{</span><span style=\"color: #008000; text-decoration-color: #008000\">'roll no.'</span>: <span style=\"color: #008080; text-decoration-color: #008080; font-weight: bold\">2</span>, <span style=\"color: #008000; text-decoration-color: #008000\">'name'</span>: <span style=\"color: #008000; text-decoration-color: #008000\">'John'</span>, <span style=\"color: #008000; text-decoration-color: #008000\">'marks'</span>: <span style=\"font-weight: bold\">[{</span><span style=\"color: #008000; text-decoration-color: #008000\">'Maths'</span>: <span style=\"color: #008080; text-decoration-color: #008080; font-weight: bold\">100</span>, <span style=\"color: #008000; text-decoration-color: #008000\">'English'</span>: <span style=\"color: #008080; text-decoration-color: #008080; font-weight: bold\">98</span><span style=\"font-weight: bold\">}]}</span>,\n",
              "<span style=\"color: #7fbf7f; text-decoration-color: #7fbf7f\">│   │   │   </span><span style=\"font-weight: bold\">{</span><span style=\"color: #008000; text-decoration-color: #008000\">'roll no.'</span>: <span style=\"color: #008080; text-decoration-color: #008080; font-weight: bold\">3</span>, <span style=\"color: #008000; text-decoration-color: #008000\">'name'</span>: <span style=\"color: #008000; text-decoration-color: #008000\">'John'</span>, <span style=\"color: #008000; text-decoration-color: #008000\">'marks'</span>: <span style=\"font-weight: bold\">[{</span><span style=\"color: #008000; text-decoration-color: #008000\">'Maths'</span>: <span style=\"color: #008080; text-decoration-color: #008080; font-weight: bold\">100</span>, <span style=\"color: #008000; text-decoration-color: #008000\">'English'</span>: <span style=\"color: #008080; text-decoration-color: #008080; font-weight: bold\">98</span><span style=\"font-weight: bold\">}]}</span>\n",
              "<span style=\"color: #7fbf7f; text-decoration-color: #7fbf7f\">│   │   </span><span style=\"font-weight: bold\">]</span>\n",
              "<span style=\"color: #7fbf7f; text-decoration-color: #7fbf7f\">│   </span><span style=\"font-weight: bold\">}</span>,\n",
              "<span style=\"color: #7fbf7f; text-decoration-color: #7fbf7f\">│   </span><span style=\"color: #008080; text-decoration-color: #008080; font-weight: bold\">2023</span>: <span style=\"font-weight: bold\">{</span>\n",
              "<span style=\"color: #7fbf7f; text-decoration-color: #7fbf7f\">│   │   </span><span style=\"color: #008000; text-decoration-color: #008000\">'Branch 1'</span>: <span style=\"font-weight: bold\">[</span>\n",
              "<span style=\"color: #7fbf7f; text-decoration-color: #7fbf7f\">│   │   │   </span><span style=\"font-weight: bold\">{</span><span style=\"color: #008000; text-decoration-color: #008000\">'roll no.'</span>: <span style=\"color: #008080; text-decoration-color: #008080; font-weight: bold\">1</span>, <span style=\"color: #008000; text-decoration-color: #008000\">'name'</span>: <span style=\"color: #008000; text-decoration-color: #008000\">'John'</span>, <span style=\"color: #008000; text-decoration-color: #008000\">'marks'</span>: <span style=\"font-weight: bold\">[{</span><span style=\"color: #008000; text-decoration-color: #008000\">'Maths'</span>: <span style=\"color: #008080; text-decoration-color: #008080; font-weight: bold\">100</span>, <span style=\"color: #008000; text-decoration-color: #008000\">'English'</span>: <span style=\"color: #008080; text-decoration-color: #008080; font-weight: bold\">98</span><span style=\"font-weight: bold\">}]}</span>,\n",
              "<span style=\"color: #7fbf7f; text-decoration-color: #7fbf7f\">│   │   │   </span><span style=\"font-weight: bold\">{</span><span style=\"color: #008000; text-decoration-color: #008000\">'roll no.'</span>: <span style=\"color: #008080; text-decoration-color: #008080; font-weight: bold\">2</span>, <span style=\"color: #008000; text-decoration-color: #008000\">'name'</span>: <span style=\"color: #008000; text-decoration-color: #008000\">'John'</span>, <span style=\"color: #008000; text-decoration-color: #008000\">'marks'</span>: <span style=\"font-weight: bold\">[{</span><span style=\"color: #008000; text-decoration-color: #008000\">'Maths'</span>: <span style=\"color: #008080; text-decoration-color: #008080; font-weight: bold\">100</span>, <span style=\"color: #008000; text-decoration-color: #008000\">'English'</span>: <span style=\"color: #008080; text-decoration-color: #008080; font-weight: bold\">98</span><span style=\"font-weight: bold\">}]}</span>,\n",
              "<span style=\"color: #7fbf7f; text-decoration-color: #7fbf7f\">│   │   │   </span><span style=\"font-weight: bold\">{</span><span style=\"color: #008000; text-decoration-color: #008000\">'roll no.'</span>: <span style=\"color: #008080; text-decoration-color: #008080; font-weight: bold\">3</span>, <span style=\"color: #008000; text-decoration-color: #008000\">'name'</span>: <span style=\"color: #008000; text-decoration-color: #008000\">'John'</span>, <span style=\"color: #008000; text-decoration-color: #008000\">'marks'</span>: <span style=\"font-weight: bold\">[{</span><span style=\"color: #008000; text-decoration-color: #008000\">'Maths'</span>: <span style=\"color: #008080; text-decoration-color: #008080; font-weight: bold\">100</span>, <span style=\"color: #008000; text-decoration-color: #008000\">'English'</span>: <span style=\"color: #008080; text-decoration-color: #008080; font-weight: bold\">98</span><span style=\"font-weight: bold\">}]}</span>\n",
              "<span style=\"color: #7fbf7f; text-decoration-color: #7fbf7f\">│   │   </span><span style=\"font-weight: bold\">]</span>,\n",
              "<span style=\"color: #7fbf7f; text-decoration-color: #7fbf7f\">│   │   </span><span style=\"color: #008000; text-decoration-color: #008000\">'Branch 2'</span>: <span style=\"font-weight: bold\">[</span>\n",
              "<span style=\"color: #7fbf7f; text-decoration-color: #7fbf7f\">│   │   │   </span><span style=\"font-weight: bold\">{</span><span style=\"color: #008000; text-decoration-color: #008000\">'roll no.'</span>: <span style=\"color: #008080; text-decoration-color: #008080; font-weight: bold\">1</span>, <span style=\"color: #008000; text-decoration-color: #008000\">'name'</span>: <span style=\"color: #008000; text-decoration-color: #008000\">'John'</span>, <span style=\"color: #008000; text-decoration-color: #008000\">'marks'</span>: <span style=\"font-weight: bold\">[{</span><span style=\"color: #008000; text-decoration-color: #008000\">'Maths'</span>: <span style=\"color: #008080; text-decoration-color: #008080; font-weight: bold\">100</span>, <span style=\"color: #008000; text-decoration-color: #008000\">'English'</span>: <span style=\"color: #008080; text-decoration-color: #008080; font-weight: bold\">98</span><span style=\"font-weight: bold\">}]}</span>,\n",
              "<span style=\"color: #7fbf7f; text-decoration-color: #7fbf7f\">│   │   │   </span><span style=\"font-weight: bold\">{</span><span style=\"color: #008000; text-decoration-color: #008000\">'roll no.'</span>: <span style=\"color: #008080; text-decoration-color: #008080; font-weight: bold\">2</span>, <span style=\"color: #008000; text-decoration-color: #008000\">'name'</span>: <span style=\"color: #008000; text-decoration-color: #008000\">'John'</span>, <span style=\"color: #008000; text-decoration-color: #008000\">'marks'</span>: <span style=\"font-weight: bold\">[{</span><span style=\"color: #008000; text-decoration-color: #008000\">'Maths'</span>: <span style=\"color: #008080; text-decoration-color: #008080; font-weight: bold\">100</span>, <span style=\"color: #008000; text-decoration-color: #008000\">'English'</span>: <span style=\"color: #008080; text-decoration-color: #008080; font-weight: bold\">98</span><span style=\"font-weight: bold\">}]}</span>,\n",
              "<span style=\"color: #7fbf7f; text-decoration-color: #7fbf7f\">│   │   │   </span><span style=\"font-weight: bold\">{</span><span style=\"color: #008000; text-decoration-color: #008000\">'roll no.'</span>: <span style=\"color: #008080; text-decoration-color: #008080; font-weight: bold\">3</span>, <span style=\"color: #008000; text-decoration-color: #008000\">'name'</span>: <span style=\"color: #008000; text-decoration-color: #008000\">'John'</span>, <span style=\"color: #008000; text-decoration-color: #008000\">'marks'</span>: <span style=\"font-weight: bold\">[{</span><span style=\"color: #008000; text-decoration-color: #008000\">'Maths'</span>: <span style=\"color: #008080; text-decoration-color: #008080; font-weight: bold\">100</span>, <span style=\"color: #008000; text-decoration-color: #008000\">'English'</span>: <span style=\"color: #008080; text-decoration-color: #008080; font-weight: bold\">98</span><span style=\"font-weight: bold\">}]}</span>\n",
              "<span style=\"color: #7fbf7f; text-decoration-color: #7fbf7f\">│   │   </span><span style=\"font-weight: bold\">]</span>,\n",
              "<span style=\"color: #7fbf7f; text-decoration-color: #7fbf7f\">│   │   </span><span style=\"color: #008000; text-decoration-color: #008000\">'Branch 3'</span>: <span style=\"font-weight: bold\">[</span>\n",
              "<span style=\"color: #7fbf7f; text-decoration-color: #7fbf7f\">│   │   │   </span><span style=\"font-weight: bold\">{</span><span style=\"color: #008000; text-decoration-color: #008000\">'roll no.'</span>: <span style=\"color: #008080; text-decoration-color: #008080; font-weight: bold\">1</span>, <span style=\"color: #008000; text-decoration-color: #008000\">'name'</span>: <span style=\"color: #008000; text-decoration-color: #008000\">'John'</span>, <span style=\"color: #008000; text-decoration-color: #008000\">'marks'</span>: <span style=\"font-weight: bold\">[{</span><span style=\"color: #008000; text-decoration-color: #008000\">'Maths'</span>: <span style=\"color: #008080; text-decoration-color: #008080; font-weight: bold\">100</span>, <span style=\"color: #008000; text-decoration-color: #008000\">'English'</span>: <span style=\"color: #008080; text-decoration-color: #008080; font-weight: bold\">98</span><span style=\"font-weight: bold\">}]}</span>,\n",
              "<span style=\"color: #7fbf7f; text-decoration-color: #7fbf7f\">│   │   │   </span><span style=\"font-weight: bold\">{</span><span style=\"color: #008000; text-decoration-color: #008000\">'roll no.'</span>: <span style=\"color: #008080; text-decoration-color: #008080; font-weight: bold\">2</span>, <span style=\"color: #008000; text-decoration-color: #008000\">'name'</span>: <span style=\"color: #008000; text-decoration-color: #008000\">'John'</span>, <span style=\"color: #008000; text-decoration-color: #008000\">'marks'</span>: <span style=\"font-weight: bold\">[{</span><span style=\"color: #008000; text-decoration-color: #008000\">'Maths'</span>: <span style=\"color: #008080; text-decoration-color: #008080; font-weight: bold\">100</span>, <span style=\"color: #008000; text-decoration-color: #008000\">'English'</span>: <span style=\"color: #008080; text-decoration-color: #008080; font-weight: bold\">98</span><span style=\"font-weight: bold\">}]}</span>,\n",
              "<span style=\"color: #7fbf7f; text-decoration-color: #7fbf7f\">│   │   │   </span><span style=\"font-weight: bold\">{</span><span style=\"color: #008000; text-decoration-color: #008000\">'roll no.'</span>: <span style=\"color: #008080; text-decoration-color: #008080; font-weight: bold\">3</span>, <span style=\"color: #008000; text-decoration-color: #008000\">'name'</span>: <span style=\"color: #008000; text-decoration-color: #008000\">'John'</span>, <span style=\"color: #008000; text-decoration-color: #008000\">'marks'</span>: <span style=\"font-weight: bold\">[{</span><span style=\"color: #008000; text-decoration-color: #008000\">'Maths'</span>: <span style=\"color: #008080; text-decoration-color: #008080; font-weight: bold\">100</span>, <span style=\"color: #008000; text-decoration-color: #008000\">'English'</span>: <span style=\"color: #008080; text-decoration-color: #008080; font-weight: bold\">98</span><span style=\"font-weight: bold\">}]}</span>\n",
              "<span style=\"color: #7fbf7f; text-decoration-color: #7fbf7f\">│   │   </span><span style=\"font-weight: bold\">]</span>\n",
              "<span style=\"color: #7fbf7f; text-decoration-color: #7fbf7f\">│   </span><span style=\"font-weight: bold\">}</span>\n",
              "<span style=\"font-weight: bold\">}</span>\n",
              "</pre>\n"
            ]
          },
          "metadata": {}
        }
      ],
      "source": [
        "dic = {}\n",
        "\n",
        "for i in range(2022, 2024):\n",
        "  dic1 = {}\n",
        "  for j in range(1, 4):\n",
        "    label = \"Branch \"+ str(j)\n",
        "    lst = []\n",
        "    for k in range(1,4):\n",
        "      d = {\n",
        "          \"roll no.\": k,\n",
        "           \"name\": \"John\",\n",
        "           \"marks\": [\n",
        "               {\n",
        "                   \"Maths\": 100, \"English\": 98\n",
        "               }\n",
        "           ]\n",
        "      }\n",
        "      lst.append(d)\n",
        "    dic1[label] = lst\n",
        "  dic[i] = dic1\n",
        "\n",
        "  pprint(dic)"
      ]
    },
    {
      "cell_type": "markdown",
      "metadata": {
        "id": "DB6DdVqFJLWn"
      },
      "source": [
        "**Qn 8**\n",
        "\n",
        "Storing student records using classes and objects"
      ]
    },
    {
      "cell_type": "code",
      "execution_count": null,
      "metadata": {
        "id": "PPlmlUaKJTjm"
      },
      "outputs": [],
      "source": [
        "class Student:\n",
        "  def __init__(self, rollno, name, marks):\n",
        "    self.name = name\n",
        "    self.rollno = rollno\n",
        "    self.marks = marks\n",
        "\n",
        "class Year:\n",
        "  def __init__(self, year, branch1, branch2):\n",
        "    self.branch1 = branch1\n",
        "    self.branch2 = branch2\n",
        "    self.year = year\n",
        "\n",
        "year_lst = []\n",
        "for i in range(2022, 2027):\n",
        "  branch1 = [Student(1, \"John\", {\"Math\": 20, \"Chem\": 40}), Student(2, \"Peter\", {\"Math\": 40, \"Chem\": 10})]\n",
        "  branch2 = [Student(12, \"Jarvis\", {\"Math\": 100, \"Chem\": 95}), Student(13, \"Parker\", {\"Math\": 45, \"Chem\": 15})]\n",
        "\n",
        "  year_lst.append(Year(i, deepcopy(branch1), deepcopy(branch2)))"
      ]
    },
    {
      "cell_type": "code",
      "execution_count": null,
      "metadata": {
        "colab": {
          "base_uri": "https://localhost:8080/",
          "height": 129
        },
        "id": "PvHfhDBeMD7B",
        "outputId": "304fcb35-4926-4f48-cca9-26ed2ed2170a"
      },
      "outputs": [
        {
          "output_type": "display_data",
          "data": {
            "text/plain": [
              "\u001b[1m[\u001b[0m\n",
              "\u001b[2;32m│   \u001b[0m\u001b[1m<\u001b[0m\u001b[1;95m__main__.Year\u001b[0m\u001b[39m object at \u001b[0m\u001b[1;36m0x7f58ba060100\u001b[0m\u001b[39m>,\u001b[0m\n",
              "\u001b[2;32m│   \u001b[0m\u001b[39m<__main__.Year object at \u001b[0m\u001b[1;36m0x7f58ba060640\u001b[0m\u001b[39m>,\u001b[0m\n",
              "\u001b[2;32m│   \u001b[0m\u001b[39m<__main__.Year object at \u001b[0m\u001b[1;36m0x7f589209e7f0\u001b[0m\u001b[39m>,\u001b[0m\n",
              "\u001b[2;32m│   \u001b[0m\u001b[39m<__main__.Year object at \u001b[0m\u001b[1;36m0x7f58ba060310\u001b[0m\u001b[39m>,\u001b[0m\n",
              "\u001b[2;32m│   \u001b[0m\u001b[39m<__main__.Year object at \u001b[0m\u001b[1;36m0x7f58ba060f40\u001b[0m\u001b[1m>\u001b[0m\n",
              "\u001b[1m]\u001b[0m\n"
            ],
            "text/html": [
              "<pre style=\"white-space:pre;overflow-x:auto;line-height:normal;font-family:Menlo,'DejaVu Sans Mono',consolas,'Courier New',monospace\"><span style=\"font-weight: bold\">[</span>\n",
              "<span style=\"color: #7fbf7f; text-decoration-color: #7fbf7f\">│   </span><span style=\"font-weight: bold\">&lt;</span><span style=\"color: #ff00ff; text-decoration-color: #ff00ff; font-weight: bold\">__main__.Year</span><span style=\"color: #000000; text-decoration-color: #000000\"> object at </span><span style=\"color: #008080; text-decoration-color: #008080; font-weight: bold\">0x7f58ba060100</span><span style=\"color: #000000; text-decoration-color: #000000\">&gt;,</span>\n",
              "<span style=\"color: #7fbf7f; text-decoration-color: #7fbf7f\">│   </span><span style=\"color: #000000; text-decoration-color: #000000\">&lt;__main__.Year object at </span><span style=\"color: #008080; text-decoration-color: #008080; font-weight: bold\">0x7f58ba060640</span><span style=\"color: #000000; text-decoration-color: #000000\">&gt;,</span>\n",
              "<span style=\"color: #7fbf7f; text-decoration-color: #7fbf7f\">│   </span><span style=\"color: #000000; text-decoration-color: #000000\">&lt;__main__.Year object at </span><span style=\"color: #008080; text-decoration-color: #008080; font-weight: bold\">0x7f589209e7f0</span><span style=\"color: #000000; text-decoration-color: #000000\">&gt;,</span>\n",
              "<span style=\"color: #7fbf7f; text-decoration-color: #7fbf7f\">│   </span><span style=\"color: #000000; text-decoration-color: #000000\">&lt;__main__.Year object at </span><span style=\"color: #008080; text-decoration-color: #008080; font-weight: bold\">0x7f58ba060310</span><span style=\"color: #000000; text-decoration-color: #000000\">&gt;,</span>\n",
              "<span style=\"color: #7fbf7f; text-decoration-color: #7fbf7f\">│   </span><span style=\"color: #000000; text-decoration-color: #000000\">&lt;__main__.Year object at </span><span style=\"color: #008080; text-decoration-color: #008080; font-weight: bold\">0x7f58ba060f40</span><span style=\"font-weight: bold\">&gt;</span>\n",
              "<span style=\"font-weight: bold\">]</span>\n",
              "</pre>\n"
            ]
          },
          "metadata": {}
        }
      ],
      "source": [
        "pprint(year_lst)"
      ]
    },
    {
      "cell_type": "markdown",
      "metadata": {
        "id": "3VaqOQEvMUAX"
      },
      "source": [
        "**Qn 9**\n",
        "\n",
        "Using Matplotlib to plot the functions\n"
      ]
    },
    {
      "cell_type": "code",
      "execution_count": null,
      "metadata": {
        "id": "HHJ6reY3Ma9E"
      },
      "outputs": [],
      "source": [
        "x = np.arange(0.5, 100.5, 0.5)"
      ]
    },
    {
      "cell_type": "markdown",
      "metadata": {
        "id": "9ci9jlI4OH6W"
      },
      "source": [
        "\n",
        "1. $y=x$"
      ]
    },
    {
      "cell_type": "code",
      "execution_count": null,
      "metadata": {
        "colab": {
          "base_uri": "https://localhost:8080/",
          "height": 265
        },
        "id": "XBPic2FYNsE2",
        "outputId": "3f41e49c-b7ff-493d-b166-fefd2cbf15df"
      },
      "outputs": [
        {
          "output_type": "display_data",
          "data": {
            "text/plain": [
              "<Figure size 432x288 with 1 Axes>"
            ],
            "image/png": "[encoded data removed]"
          },
          "metadata": {
            "needs_background": "light"
          }
        }
      ],
      "source": [
        "y = x.copy()\n",
        "\n",
        "plt.plot(x, y)\n",
        "plt.show()"
      ]
    },
    {
      "cell_type": "markdown",
      "metadata": {
        "id": "e2s1vftmO3jM"
      },
      "source": [
        "2. $y = x^2$"
      ]
    },
    {
      "cell_type": "code",
      "execution_count": null,
      "metadata": {
        "colab": {
          "base_uri": "https://localhost:8080/",
          "height": 265
        },
        "id": "N6E5wzzSOcSn",
        "outputId": "72dfe9ff-d4e9-4a71-924e-6b0a5bfa253e"
      },
      "outputs": [
        {
          "output_type": "display_data",
          "data": {
            "text/plain": [
              "<Figure size 432x288 with 1 Axes>"
            ],
            "image/png": "[encoded data removed]"
          },
          "metadata": {
            "needs_background": "light"
          }
        }
      ],
      "source": [
        "y = [i**2 for i in x]\n",
        "\n",
        "plt.plot(x, y)\n",
        "plt.show()"
      ]
    },
    {
      "cell_type": "markdown",
      "metadata": {
        "id": "c2wTc2i7PFrh"
      },
      "source": [
        "3. $ y = x^3/100$"
      ]
    },
    {
      "cell_type": "code",
      "execution_count": null,
      "metadata": {
        "colab": {
          "base_uri": "https://localhost:8080/",
          "height": 265
        },
        "id": "UOkm6Hj1PCka",
        "outputId": "cdd13758-2d20-4d8a-ea02-12a99613723e"
      },
      "outputs": [
        {
          "output_type": "display_data",
          "data": {
            "text/plain": [
              "<Figure size 432x288 with 1 Axes>"
            ],
            "image/png": "[encoded data removed]"
          },
          "metadata": {
            "needs_background": "light"
          }
        }
      ],
      "source": [
        "y = [i**3/100 for i in x]\n",
        "\n",
        "plt.plot(x, y)\n",
        "plt.show()"
      ]
    },
    {
      "cell_type": "markdown",
      "metadata": {
        "id": "OZDPjyDUPehw"
      },
      "source": [
        "4. $y = sin(x)$"
      ]
    },
    {
      "cell_type": "code",
      "execution_count": null,
      "metadata": {
        "colab": {
          "base_uri": "https://localhost:8080/",
          "height": 265
        },
        "id": "06q6b4FQPbgF",
        "outputId": "cc5edf73-3a64-4960-9ab4-67166d6c30af"
      },
      "outputs": [
        {
          "output_type": "display_data",
          "data": {
            "text/plain": [
              "<Figure size 432x288 with 1 Axes>"
            ],
            "image/png": "[encoded data removed]"
          },
          "metadata": {
            "needs_background": "light"
          }
        }
      ],
      "source": [
        "y = [np.sin(i) for i in x]\n",
        "\n",
        "plt.plot(x, y)\n",
        "plt.show()"
      ]
    },
    {
      "cell_type": "markdown",
      "source": [
        "5. $y = sin(x)/x$"
      ],
      "metadata": {
        "id": "whex2WLLPB0B"
      }
    },
    {
      "cell_type": "code",
      "source": [
        "y = [np.sin(i)/i for i in x]\n",
        "\n",
        "plt.plot(x, y)\n",
        "plt.show()"
      ],
      "metadata": {
        "colab": {
          "base_uri": "https://localhost:8080/",
          "height": 266
        },
        "id": "KBAMcIGOPEwK",
        "outputId": "b5b6ac3c-4633-455d-db12-b7d40e3386ed"
      },
      "execution_count": 257,
      "outputs": [
        {
          "output_type": "display_data",
          "data": {
            "text/plain": [
              "<Figure size 432x288 with 1 Axes>"
            ],
            "image/png": "[encoded data removed]"
          },
          "metadata": {
            "needs_background": "light"
          }
        }
      ]
    },
    {
      "cell_type": "markdown",
      "metadata": {
        "id": "QftpUkv3P4bn"
      },
      "source": [
        "\n",
        "6. $y = log(x)$"
      ]
    },
    {
      "cell_type": "code",
      "execution_count": null,
      "metadata": {
        "colab": {
          "base_uri": "https://localhost:8080/",
          "height": 265
        },
        "id": "O3JqHSahPqgi",
        "outputId": "81fee4ec-d4b4-48c8-87ca-4433413280ac"
      },
      "outputs": [
        {
          "output_type": "display_data",
          "data": {
            "text/plain": [
              "<Figure size 432x288 with 1 Axes>"
            ],
            "image/png": "[encoded data removed]"
          },
          "metadata": {
            "needs_background": "light"
          }
        }
      ],
      "source": [
        "y = [np.log(i) for i in x]\n",
        "\n",
        "plt.plot(x, y)\n",
        "plt.show()"
      ]
    },
    {
      "cell_type": "markdown",
      "metadata": {
        "id": "M0qtgWyVQb_3"
      },
      "source": [
        "7. $y=e^x$"
      ]
    },
    {
      "cell_type": "code",
      "execution_count": null,
      "metadata": {
        "colab": {
          "base_uri": "https://localhost:8080/",
          "height": 276
        },
        "id": "l_UAVZpqQMzV",
        "outputId": "4ac2b456-a4db-41b6-b2f8-b72e7acbdfef"
      },
      "outputs": [
        {
          "output_type": "display_data",
          "data": {
            "text/plain": [
              "<Figure size 432x288 with 1 Axes>"
            ],
            "image/png": "[encoded data removed]"
          },
          "metadata": {
            "needs_background": "light"
          }
        }
      ],
      "source": [
        "y = [np.exp(i) for i in x]\n",
        "\n",
        "plt.plot(x, y)\n",
        "plt.show()"
      ]
    },
    {
      "cell_type": "markdown",
      "metadata": {
        "id": "Ph8-zSX4Q0qU"
      },
      "source": [
        "**Qn 10**"
      ]
    },
    {
      "cell_type": "code",
      "execution_count": null,
      "metadata": {
        "colab": {
          "base_uri": "https://localhost:8080/"
        },
        "id": "ObodadmyQrR4",
        "outputId": "879bb4f4-5a9a-40de-9556-b44eb7415b6f"
      },
      "outputs": [
        {
          "output_type": "stream",
          "name": "stdout",
          "text": [
            "           a         b         c         d         e\n",
            "0   1.701323  1.208371  1.606895  1.815792  1.306475\n",
            "1   1.636260  1.971792  1.192174  1.900499  1.050661\n",
            "2   1.895245  1.828903  1.794051  1.235396  1.403852\n",
            "3   1.125344  1.431639  1.361505  1.042523  1.429107\n",
            "4   1.981796  1.299395  1.901729  1.102715  1.334620\n",
            "5   1.388535  1.671501  1.206796  1.469487  1.523763\n",
            "6   1.802344  1.433310  1.526116  1.298423  1.235936\n",
            "7   1.325015  1.950360  1.191769  1.409418  1.574920\n",
            "8   1.397343  1.409063  1.069636  1.444684  1.978733\n",
            "9   1.339564  1.739260  1.466273  1.759425  1.966344\n",
            "10  1.885811  1.234355  1.719502  1.496155  1.775758\n",
            "11  1.435380  1.641430  1.590891  1.846179  1.353385\n",
            "12  1.476497  1.520957  1.735918  1.641145  1.209187\n",
            "13  1.398404  1.126187  1.935641  1.427481  1.481091\n",
            "14  1.264801  1.679208  1.187314  1.693939  1.546398\n",
            "15  1.375743  1.615829  1.912357  1.800692  1.408106\n",
            "16  1.186310  1.341751  1.988932  1.790029  1.971408\n",
            "17  1.534245  1.607613  1.563610  1.630971  1.723497\n",
            "18  1.409464  1.999401  1.874437  1.445121  1.747739\n",
            "19  1.119551  1.506500  1.816765  1.756885  1.125079\n"
          ]
        }
      ],
      "source": [
        "mat = np.random.uniform(1.0, 2.0, size=(20, 5))\n",
        "columns = [\"a\", \"b\", \"c\", \"d\", \"e\"]\n",
        "df = pd.DataFrame(mat, columns = columns)\n",
        "print(df)"
      ]
    },
    {
      "cell_type": "code",
      "execution_count": null,
      "metadata": {
        "colab": {
          "base_uri": "https://localhost:8080/"
        },
        "id": "iWofh-EuQ0Td",
        "outputId": "4dbcc7a2-2f01-46c3-b5cd-9a00ce260faa"
      },
      "outputs": [
        {
          "output_type": "stream",
          "name": "stdout",
          "text": [
            "a    0.255525\n",
            "b    0.256621\n",
            "c    0.295555\n",
            "d    0.252360\n",
            "e    0.278120\n",
            "dtype: float64\n"
          ]
        }
      ],
      "source": [
        "std = df.std()\n",
        "print(std)"
      ]
    },
    {
      "cell_type": "code",
      "execution_count": null,
      "metadata": {
        "colab": {
          "base_uri": "https://localhost:8080/"
        },
        "id": "gFrG8Z0eU1t_",
        "outputId": "4a4a174b-70fd-4ee8-ede7-7580af815459"
      },
      "outputs": [
        {
          "output_type": "stream",
          "name": "stdout",
          "text": [
            "The column with max std deviation is c\n"
          ]
        }
      ],
      "source": [
        "print(\"The column with max std deviation is\", columns[std.argmax()])"
      ]
    },
    {
      "cell_type": "code",
      "execution_count": null,
      "metadata": {
        "colab": {
          "base_uri": "https://localhost:8080/"
        },
        "id": "Yo0YRS8xVCTk",
        "outputId": "15270927-5ec1-497d-e4ad-a8fb35bdd80e"
      },
      "outputs": [
        {
          "output_type": "stream",
          "name": "stdout",
          "text": [
            "0     1.527771\n",
            "1     1.550277\n",
            "2     1.631489\n",
            "3     1.278024\n",
            "4     1.524051\n",
            "5     1.452017\n",
            "6     1.459226\n",
            "7     1.490296\n",
            "8     1.459892\n",
            "9     1.654173\n",
            "10    1.622316\n",
            "11    1.573453\n",
            "12    1.516741\n",
            "13    1.473761\n",
            "14    1.474332\n",
            "15    1.622545\n",
            "16    1.655686\n",
            "17    1.611987\n",
            "18    1.695232\n",
            "19    1.464956\n",
            "dtype: float64\n"
          ]
        }
      ],
      "source": [
        "mean = df.mean(1)\n",
        "print(mean)"
      ]
    },
    {
      "cell_type": "code",
      "execution_count": null,
      "metadata": {
        "colab": {
          "base_uri": "https://localhost:8080/"
        },
        "id": "2xVNzuS0VX_e",
        "outputId": "c6f101db-23f7-4a31-c26e-113e72399b2f"
      },
      "outputs": [
        {
          "output_type": "stream",
          "name": "stdout",
          "text": [
            "The row with lowest mean is 3\n"
          ]
        }
      ],
      "source": [
        "print(\"The row with lowest mean is\", mean.argmin())"
      ]
    },
    {
      "cell_type": "markdown",
      "metadata": {
        "id": "FBufViNsWDaf"
      },
      "source": [
        "**Qn 11**"
      ]
    },
    {
      "cell_type": "code",
      "execution_count": null,
      "metadata": {
        "id": "fX8MXmByVvN8"
      },
      "outputs": [],
      "source": [
        "# Inserting column f\n",
        "df['f'] = df.sum(1)"
      ]
    },
    {
      "cell_type": "code",
      "execution_count": null,
      "metadata": {
        "id": "LRCyqdK1rhlv"
      },
      "outputs": [],
      "source": [
        "# Inserting column g\n",
        "\n",
        "df.loc[df['f'] < 8, 'g'] = 'LT8' \n",
        "df.loc[df['f'] >= 8, 'g'] = 'GT8' "
      ]
    },
    {
      "cell_type": "code",
      "execution_count": null,
      "metadata": {
        "colab": {
          "base_uri": "https://localhost:8080/"
        },
        "id": "zTVT1Mpfr0fl",
        "outputId": "ebfe0507-6440-407b-a47a-05f9e4e8811c"
      },
      "outputs": [
        {
          "output_type": "stream",
          "name": "stdout",
          "text": [
            "           a         b         c         d         e         f    g\n",
            "0   1.701323  1.208371  1.606895  1.815792  1.306475  7.638857  LT8\n",
            "1   1.636260  1.971792  1.192174  1.900499  1.050661  7.751386  LT8\n",
            "2   1.895245  1.828903  1.794051  1.235396  1.403852  8.157447  GT8\n",
            "3   1.125344  1.431639  1.361505  1.042523  1.429107  6.390118  LT8\n",
            "4   1.981796  1.299395  1.901729  1.102715  1.334620  7.620255  LT8\n",
            "5   1.388535  1.671501  1.206796  1.469487  1.523763  7.260084  LT8\n",
            "6   1.802344  1.433310  1.526116  1.298423  1.235936  7.296130  LT8\n",
            "7   1.325015  1.950360  1.191769  1.409418  1.574920  7.451482  LT8\n",
            "8   1.397343  1.409063  1.069636  1.444684  1.978733  7.299460  LT8\n",
            "9   1.339564  1.739260  1.466273  1.759425  1.966344  8.270866  GT8\n",
            "10  1.885811  1.234355  1.719502  1.496155  1.775758  8.111580  GT8\n",
            "11  1.435380  1.641430  1.590891  1.846179  1.353385  7.867265  LT8\n",
            "12  1.476497  1.520957  1.735918  1.641145  1.209187  7.583704  LT8\n",
            "13  1.398404  1.126187  1.935641  1.427481  1.481091  7.368804  LT8\n",
            "14  1.264801  1.679208  1.187314  1.693939  1.546398  7.371660  LT8\n",
            "15  1.375743  1.615829  1.912357  1.800692  1.408106  8.112727  GT8\n",
            "16  1.186310  1.341751  1.988932  1.790029  1.971408  8.278430  GT8\n",
            "17  1.534245  1.607613  1.563610  1.630971  1.723497  8.059936  GT8\n",
            "18  1.409464  1.999401  1.874437  1.445121  1.747739  8.476162  GT8\n",
            "19  1.119551  1.506500  1.816765  1.756885  1.125079  7.324781  LT8\n"
          ]
        }
      ],
      "source": [
        "print(df)"
      ]
    },
    {
      "cell_type": "code",
      "execution_count": null,
      "metadata": {
        "colab": {
          "base_uri": "https://localhost:8080/"
        },
        "id": "G84LyiNgsupH",
        "outputId": "46155f71-953a-47c8-e679-34816b0df336"
      },
      "outputs": [
        {
          "output_type": "stream",
          "name": "stdout",
          "text": [
            "The number of rows in the dataframe where the value in the column 'g' is 'LT8' is 13\n"
          ]
        }
      ],
      "source": [
        "count = len(df[df['g'] == 'LT8'])\n",
        "print(\"The number of rows in the dataframe where the value in the column 'g' is 'LT8' is\", count)"
      ]
    },
    {
      "cell_type": "code",
      "execution_count": null,
      "metadata": {
        "colab": {
          "base_uri": "https://localhost:8080/"
        },
        "id": "OW0a3OmftjMq",
        "outputId": "bddca76a-66c3-4df7-c642-f19d7e3f2bfc"
      },
      "outputs": [
        {
          "output_type": "stream",
          "name": "stdout",
          "text": [
            "The standard deviation of the column 'f' for the rows where the value in the column 'g' is 'LT8' is 0.35957113738991686\n",
            "The standard deviation of the column 'f' for the rows where the value in the column 'g' is 'GT8' is 0.14356061697230452\n"
          ]
        }
      ],
      "source": [
        "std_gt = df[df['g'] == 'GT8']['f'].std()\n",
        "std_lt = df[df['g'] == 'LT8']['f'].std()\n",
        "\n",
        "print(\"The standard deviation of the column 'f' for the rows where the value in the column 'g' is 'LT8' is\", std_lt)\n",
        "print(\"The standard deviation of the column 'f' for the rows where the value in the column 'g' is 'GT8' is\", std_gt)"
      ]
    },
    {
      "cell_type": "markdown",
      "metadata": {
        "id": "NGYgSYlIxAHt"
      },
      "source": [
        "**Qn 12**\n",
        "\n",
        "Broadcasting describes how python treats two different shapes during an arithmetic operation. In order for broadcasting to work, the individual dimensions are either equal or one.\n",
        "\n",
        "The below example demonstrates broadcasting."
      ]
    },
    {
      "cell_type": "code",
      "execution_count": null,
      "metadata": {
        "colab": {
          "base_uri": "https://localhost:8080/"
        },
        "id": "1Uid_dB2uaYT",
        "outputId": "458d2209-610e-4018-d1d2-0229f51ad3b5"
      },
      "outputs": [
        {
          "output_type": "stream",
          "name": "stdout",
          "text": [
            "[ 3  6  9 12]\n"
          ]
        }
      ],
      "source": [
        "a = np.array([1, 2, 3, 4])\n",
        "b = np.array([3, 3, 3, 3])\n",
        "\n",
        "print(a * b)"
      ]
    },
    {
      "cell_type": "code",
      "execution_count": null,
      "metadata": {
        "colab": {
          "base_uri": "https://localhost:8080/"
        },
        "id": "rxU12189xt2H",
        "outputId": "c10acbb8-610d-4b39-cdee-87b65db3179a"
      },
      "outputs": [
        {
          "output_type": "stream",
          "name": "stdout",
          "text": [
            "[ 3  6  9 12]\n"
          ]
        }
      ],
      "source": [
        "a = np.array([1, 2, 3, 4])\n",
        "b = 3\n",
        "\n",
        "print(a * b)"
      ]
    },
    {
      "cell_type": "markdown",
      "metadata": {
        "id": "CnSHz0Uzxzq1"
      },
      "source": [
        "Both the above code snippets produce the same output eventhough in the first one both the elements are arrays but in the second one b is a scalar.\n",
        "\n",
        "Numpy converts this scalar into array of size that matches size of a."
      ]
    },
    {
      "cell_type": "markdown",
      "metadata": {
        "id": "ThBtYHJ5yJBG"
      },
      "source": [
        "**Qn 13**\n",
        "\n",
        "Argmin"
      ]
    },
    {
      "cell_type": "code",
      "execution_count": null,
      "metadata": {
        "id": "N_l7i4BKxyWm"
      },
      "outputs": [],
      "source": [
        "def argmin(arr):\n",
        "  if(len(arr) == 0):\n",
        "    return -1\n",
        "\n",
        "  index = 0\n",
        "  m = arr[0]\n",
        "  for i, ele in enumerate(arr):\n",
        "    if ele < m:\n",
        "      m = ele\n",
        "      index = i\n",
        "  return index"
      ]
    },
    {
      "cell_type": "code",
      "execution_count": null,
      "metadata": {
        "colab": {
          "base_uri": "https://localhost:8080/"
        },
        "id": "t9riWKUGymMJ",
        "outputId": "ce71a2ba-7bf2-4e24-a27d-d57919d83093"
      },
      "outputs": [
        {
          "output_type": "stream",
          "name": "stdout",
          "text": [
            "Output by custom function = 3\n",
            "Output by numpy function = 3\n"
          ]
        }
      ],
      "source": [
        "arr = np.array([8000000, 234, 2345, 123, 12341234, 1234, 123, 2345])\n",
        "print(\"Output by custom function =\", argmin(arr))\n",
        "print(\"Output by numpy function =\", np.argmin(arr))"
      ]
    },
    {
      "cell_type": "code",
      "source": [],
      "metadata": {
        "id": "-cUDqXFRBZ-k"
      },
      "execution_count": null,
      "outputs": []
    }
  ],
  "metadata": {
    "colab": {
      "provenance": []
    },
    "kernelspec": {
      "display_name": "Python 3",
      "name": "python3"
    },
    "language_info": {
      "name": "python"
    }
  },
  "nbformat": 4,
  "nbformat_minor": 0
}